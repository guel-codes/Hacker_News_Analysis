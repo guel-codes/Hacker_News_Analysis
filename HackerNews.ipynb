{
 "cells": [
  {
   "cell_type": "markdown",
   "metadata": {},
   "source": [
    "# HACKER NEWS ANALYSIS\n",
    "\n",
    "## Posts we are interested in:\n",
    "- Titles that begin with either Ask HN or Show HN\n",
    "\n",
    "## Comparison:\n",
    "- Do 'Ask HN' posts or 'Show HN' posts receive more comments on average?\n",
    "- Do posts created at a certain time receive more comments on average?"
   ]
  },
  {
   "cell_type": "markdown",
   "metadata": {},
   "source": [
    "## Reading in Dataset\n",
    "- We need to import the hacker_news.csv file\n",
    "- The dataset was reduced from the full 300,000 rows to 20,000 by removing the submission that did not receive comments"
   ]
  },
  {
   "cell_type": "code",
   "execution_count": 1,
   "metadata": {
    "collapsed": false
   },
   "outputs": [
    {
     "name": "stdout",
     "output_type": "stream",
     "text": [
      "[['12224879', 'Interactive Dynamic Video', 'http://www.interactivedynamicvideo.com/', '386', '52', 'ne0phyte', '8/4/2016 11:52'], ['10975351', 'How to Use Open Source and Shut the Fuck Up at the Same Time', 'http://hueniverse.com/2016/01/26/how-to-use-open-source-and-shut-the-fuck-up-at-the-same-time/', '39', '10', 'josep2', '1/26/2016 19:30'], ['11964716', \"Florida DJs May Face Felony for April Fools' Water Joke\", 'http://www.thewire.com/entertainment/2013/04/florida-djs-april-fools-water-joke/63798/', '2', '1', 'vezycash', '6/23/2016 22:20'], ['11919867', 'Technology ventures: From Idea to Enterprise', 'https://www.amazon.com/Technology-Ventures-Enterprise-Thomas-Byers/dp/0073523429', '3', '1', 'hswarna', '6/17/2016 0:01'], ['10301696', 'Note by Note: The Making of Steinway L1037 (2007)', 'http://www.nytimes.com/2007/11/07/movies/07stein.html?_r=0', '8', '2', 'walterbell', '9/30/2015 4:12'], ['10482257', 'Title II kills investment? Comcast and other ISPs are now spending more', 'http://arstechnica.com/business/2015/10/comcast-and-other-isps-boost-network-investment-despite-net-neutrality/', '53', '22', 'Deinos', '10/31/2015 9:48']]\n"
     ]
    }
   ],
   "source": [
    "opened_file = open('hacker_news.csv')\n",
    "\n",
    "from csv import reader\n",
    "read_file = reader(opened_file)\n",
    "hn = list(read_file)\n",
    "hn_header = hn[0]\n",
    "hn = hn[1:]\n",
    "print(hn[0:6])"
   ]
  },
  {
   "cell_type": "markdown",
   "metadata": {},
   "source": [
    "## Columns and Descriptions:\n",
    "\n",
    "id: The unique identifier from Hacker News for the post\n",
    "\n",
    "title: The title of the post\n",
    "\n",
    "url: The URL that the posts links to, if it the post has a URL\n",
    "\n",
    "num_points: The number of points the post acquired, calculated as the total -number of upvotes minus the total number of downvotes\n",
    "\n",
    "num_comments: The number of comments that were made on the post\n",
    "\n",
    "author: The username of the person who submitted the post\n",
    "\n",
    "created_at: The date and time at which the post was submitted"
   ]
  },
  {
   "cell_type": "code",
   "execution_count": 2,
   "metadata": {
    "collapsed": false
   },
   "outputs": [
    {
     "name": "stdout",
     "output_type": "stream",
     "text": [
      "1744\n",
      "1162\n",
      "17194\n"
     ]
    }
   ],
   "source": [
    "#create 3 empty lists to store separate types of posts\n",
    "ask_posts = []\n",
    "show_posts = []\n",
    "other_posts = []\n",
    "\n",
    "for post in hn:\n",
    "    title = post[1]\n",
    "    #set all post titles to lower case\n",
    "    title = title.lower()\n",
    "    if title.startswith(\"ask hn\"):\n",
    "        ask_posts.append(post)\n",
    "    elif title.startswith(\"show hn\"):\n",
    "        show_posts.append(post)\n",
    "    else:\n",
    "        other_posts.append(post)\n",
    "        \n",
    "\n",
    "        \n",
    "print(len(ask_posts))\n",
    "print(len(show_posts))\n",
    "print(len(other_posts))"
   ]
  },
  {
   "cell_type": "markdown",
   "metadata": {},
   "source": [
    "## Calculate the average amount of comments for the Ask HN and Show HN Posts"
   ]
  },
  {
   "cell_type": "code",
   "execution_count": 23,
   "metadata": {
    "collapsed": false,
    "scrolled": true
   },
   "outputs": [
    {
     "name": "stdout",
     "output_type": "stream",
     "text": [
      "Total Ask HN Posts with Comments:  24483\n",
      "Average amount of comments for Ask HN Posts :  14.038417431192661\n",
      "Average amount of comments for Show HN Posts:  10.31669535283993\n"
     ]
    }
   ],
   "source": [
    "# Find total number of comments in Ask HN posts and assingn to total_ask_comments\n",
    "total_ask_comments = 0\n",
    "total_show_comments = 0\n",
    "for post in ask_posts:\n",
    "    num_comments = int(post[4])\n",
    "    total_ask_comments += num_comments\n",
    "for post in show_posts:\n",
    "    total_show_comments += int(post[4])\n",
    "    \n",
    "    \n",
    "    # finds the average for 'ask hn' posts that have comments\n",
    "    avg_ask_comments = total_ask_comments/len(ask_posts)\n",
    "    \n",
    "     # finds the average for 'show hn' posts that have comments\n",
    "    avg_show_comments = total_show_comments/len(show_posts)\n",
    "    \n",
    "print(\"Total Ask HN Posts with Comments: \" , total_ask_comments)\n",
    "print(\"Average amount of comments for Ask HN Posts : \", avg_ask_comments)    \n",
    "print(\"Average amount of comments for Show HN Posts: \", avg_show_comments)\n"
   ]
  },
  {
   "cell_type": "code",
   "execution_count": 11,
   "metadata": {
    "collapsed": false,
    "scrolled": true
   },
   "outputs": [
    {
     "data": {
      "text/plain": [
       "{'00': 447,\n",
       " '01': 683,\n",
       " '02': 1381,\n",
       " '03': 421,\n",
       " '04': 337,\n",
       " '05': 464,\n",
       " '06': 397,\n",
       " '07': 267,\n",
       " '08': 492,\n",
       " '09': 251,\n",
       " '10': 793,\n",
       " '11': 641,\n",
       " '12': 687,\n",
       " '13': 1253,\n",
       " '14': 1416,\n",
       " '15': 4477,\n",
       " '16': 1814,\n",
       " '17': 1146,\n",
       " '18': 1439,\n",
       " '19': 1188,\n",
       " '20': 1722,\n",
       " '21': 1745,\n",
       " '22': 479,\n",
       " '23': 543}"
      ]
     },
     "execution_count": 11,
     "metadata": {},
     "output_type": "execute_result"
    }
   ],
   "source": [
    "# Calculate the number of posts made per hour.\n",
    "\n",
    "import datetime as dt\n",
    "result_list = []\n",
    "\n",
    "for post in ask_posts:\n",
    "    # date_time = post[6]\n",
    "    # num_comments = int(post[4])\n",
    "    \n",
    "    result_list.append([post[6], int(post[4])])\n",
    "    \n",
    "counts_by_hour = {}\n",
    "comments_by_hour = {}\n",
    "date_format = \"%m/%d/%Y %H:%M\"\n",
    "    \n",
    "for result in result_list:\n",
    "\n",
    "    date = result[0]\n",
    "    comment = result[1]\n",
    "    #extract the hour from the date\n",
    "    time = dt.datetime.strptime(date, date_format).strftime(\"%H\")\n",
    "    \n",
    "    if time in counts_by_hour:\n",
    "        comments_by_hour[time] += comment\n",
    "        counts_by_hour[time] += 1\n",
    "    else:\n",
    "        comments_by_hour[time]= comment\n",
    "        counts_by_hour[time] = 1\n",
    "        \n",
    "comments_by_hour"
   ]
  },
  {
   "cell_type": "code",
   "execution_count": 17,
   "metadata": {
    "collapsed": false,
    "scrolled": true
   },
   "outputs": [
    {
     "data": {
      "text/plain": [
       "[['01', 11.383333333333333],\n",
       " ['20', 21.525],\n",
       " ['11', 11.051724137931034],\n",
       " ['08', 10.25],\n",
       " ['12', 9.41095890410959],\n",
       " ['04', 7.170212765957447],\n",
       " ['18', 13.20183486238532],\n",
       " ['00', 8.127272727272727],\n",
       " ['06', 9.022727272727273],\n",
       " ['23', 7.985294117647059],\n",
       " ['22', 6.746478873239437],\n",
       " ['17', 11.46],\n",
       " ['13', 14.741176470588234],\n",
       " ['07', 7.852941176470588],\n",
       " ['10', 13.440677966101696],\n",
       " ['16', 16.796296296296298],\n",
       " ['09', 5.5777777777777775],\n",
       " ['19', 10.8],\n",
       " ['21', 16.009174311926607],\n",
       " ['15', 38.5948275862069],\n",
       " ['14', 13.233644859813085],\n",
       " ['02', 23.810344827586206],\n",
       " ['03', 7.796296296296297],\n",
       " ['05', 10.08695652173913]]"
      ]
     },
     "execution_count": 17,
     "metadata": {},
     "output_type": "execute_result"
    }
   ],
   "source": [
    "#Average number of comments created each our of the day\n",
    "avg_by_hour = []\n",
    "\n",
    "for hour in comments_by_hour:\n",
    "    avg_by_hour.append([hour, comments_by_hour[hour] / counts_by_hour[hour]])\n",
    "    \n",
    "\n",
    "avg_by_hour\n",
    "\n"
   ]
  },
  {
   "cell_type": "code",
   "execution_count": 24,
   "metadata": {
    "collapsed": false,
    "scrolled": true
   },
   "outputs": [
    {
     "name": "stdout",
     "output_type": "stream",
     "text": [
      "[[11.383333333333333, '01'], [21.525, '20'], [11.051724137931034, '11'], [10.25, '08'], [9.41095890410959, '12'], [7.170212765957447, '04'], [13.20183486238532, '18'], [8.127272727272727, '00'], [9.022727272727273, '06'], [7.985294117647059, '23'], [6.746478873239437, '22'], [11.46, '17'], [14.741176470588234, '13'], [7.852941176470588, '07'], [13.440677966101696, '10'], [16.796296296296298, '16'], [5.5777777777777775, '09'], [10.8, '19'], [16.009174311926607, '21'], [38.5948275862069, '15'], [13.233644859813085, '14'], [23.810344827586206, '02'], [7.796296296296297, '03'], [10.08695652173913, '05']]\n",
      "\n",
      "\n",
      "Top 5 Hours for 'Ask HN' Posts Comments\n",
      "15:00: 38.59 average comments per post\n",
      "02:00: 23.81 average comments per post\n",
      "20:00: 21.52 average comments per post\n",
      "16:00: 16.80 average comments per post\n",
      "21:00: 16.01 average comments per post\n"
     ]
    }
   ],
   "source": [
    "# Sort the Avg by Hour list in reverse order to show the largest results first\n",
    "\n",
    "swap_avg_by_hour = []\n",
    "\n",
    "for avg in avg_by_hour:\n",
    "    swap_avg_by_hour.append([avg[1], avg[0]])\n",
    "    \n",
    "print(swap_avg_by_hour)\n",
    "\n",
    "sorted_swap = sorted(swap_avg_by_hour, reverse = True)\n",
    "\n",
    "sorted_swap\n",
    "\n",
    "print('\\n')\n",
    "print(\"Top 5 Hours for 'Ask HN' Posts Comments\")\n",
    "\n",
    "for avg, hour in sorted_swap[:5]:\n",
    "    print(\"{}: {:.2f} average comments per post\".format(\n",
    "        dt.datetime.strptime(hour, \"%H\").strftime(\"%H:%M\"), avg))\n"
   ]
  },
  {
   "cell_type": "markdown",
   "metadata": {},
   "source": [
    "# Conclusion\n",
    "\n",
    "We analyzed 20,000 posts from the Hacker News dataset and found the average number of comments for 2 types of posts('Ask HN and Show HN').\n",
    "\n",
    "We only pulled the top 5 hours for Ask Posts Comments because they had a higher average for comments. I might add the top 5 hours for Show HN posts Comments.\n",
    "\n",
    "After a full analysis it is best to post 'Ask HN' posts between 3PM and 8PM. The only time it is advised to post in the morning is within the 2AM hour.\n"
   ]
  }
 ],
 "metadata": {
  "kernelspec": {
   "display_name": "Python 3",
   "language": "python",
   "name": "python3"
  },
  "language_info": {
   "codemirror_mode": {
    "name": "ipython",
    "version": 3
   },
   "file_extension": ".py",
   "mimetype": "text/x-python",
   "name": "python",
   "nbconvert_exporter": "python",
   "pygments_lexer": "ipython3",
   "version": "3.4.3"
  }
 },
 "nbformat": 4,
 "nbformat_minor": 2
}
